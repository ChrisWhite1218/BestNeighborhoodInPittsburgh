{
 "cells": [
  {
   "cell_type": "markdown",
   "metadata": {},
   "source": [
    "# City of Pittsburgh Crash Data "
   ]
  },
  {
   "cell_type": "markdown",
   "metadata": {},
   "source": [
    "To help answer the question of what is the most traversible neighborhood in Pittsburgh, we can look at the crash data in each neighborhood. Safety is a large factor in determining traversibility. The amount of people involced in accidents in certain areas can show which neighborhoods are safe to travel and which are not as safe. Then, you can look into what causes this. I do this by checking which incidents related to the road condition and which related to negligence by the drver.\n",
    "\n",
    "Firstly, I'll read in the crash data set and the municipality codes."
   ]
  },
  {
   "cell_type": "code",
   "execution_count": 53,
   "metadata": {},
   "outputs": [
    {
     "data": {
      "text/html": [
       "<div>\n",
       "<style scoped>\n",
       "    .dataframe tbody tr th:only-of-type {\n",
       "        vertical-align: middle;\n",
       "    }\n",
       "\n",
       "    .dataframe tbody tr th {\n",
       "        vertical-align: top;\n",
       "    }\n",
       "\n",
       "    .dataframe thead th {\n",
       "        text-align: right;\n",
       "    }\n",
       "</style>\n",
       "<table border=\"1\" class=\"dataframe\">\n",
       "  <thead>\n",
       "    <tr style=\"text-align: right;\">\n",
       "      <th></th>\n",
       "      <th>_id</th>\n",
       "      <th>CRASH_CRN</th>\n",
       "      <th>DISTRICT</th>\n",
       "      <th>CRASH_COUNTY</th>\n",
       "      <th>MUNICIPALITY</th>\n",
       "      <th>POLICE_AGCY</th>\n",
       "      <th>CRASH_YEAR</th>\n",
       "      <th>CRASH_MONTH</th>\n",
       "      <th>DAY_OF_WEEK</th>\n",
       "      <th>TIME_OF_DAY</th>\n",
       "      <th>...</th>\n",
       "      <th>LANE_COUNT</th>\n",
       "      <th>RDWY_ORIENT</th>\n",
       "      <th>ROAD_OWNER</th>\n",
       "      <th>ROUTE</th>\n",
       "      <th>SPEED_LIMIT</th>\n",
       "      <th>SEGMENT</th>\n",
       "      <th>OFFSET</th>\n",
       "      <th>STREET_NAME</th>\n",
       "      <th>TOT_INJ_COUNT</th>\n",
       "      <th>SCHOOL_BUS_UNIT</th>\n",
       "    </tr>\n",
       "  </thead>\n",
       "  <tbody>\n",
       "    <tr>\n",
       "      <th>0</th>\n",
       "      <td>1</td>\n",
       "      <td>2004000001</td>\n",
       "      <td>11</td>\n",
       "      <td>02</td>\n",
       "      <td>02454</td>\n",
       "      <td>02454</td>\n",
       "      <td>2004</td>\n",
       "      <td>01</td>\n",
       "      <td>5</td>\n",
       "      <td>0257</td>\n",
       "      <td>...</td>\n",
       "      <td>2</td>\n",
       "      <td>E</td>\n",
       "      <td>2</td>\n",
       "      <td>2032</td>\n",
       "      <td>35</td>\n",
       "      <td>0010</td>\n",
       "      <td>1000</td>\n",
       "      <td>LEWIS RUN RD</td>\n",
       "      <td>NaN</td>\n",
       "      <td>NaN</td>\n",
       "    </tr>\n",
       "    <tr>\n",
       "      <th>1</th>\n",
       "      <td>2</td>\n",
       "      <td>2004000010</td>\n",
       "      <td>11</td>\n",
       "      <td>02</td>\n",
       "      <td>02440</td>\n",
       "      <td>02440</td>\n",
       "      <td>2004</td>\n",
       "      <td>01</td>\n",
       "      <td>5</td>\n",
       "      <td>1027</td>\n",
       "      <td>...</td>\n",
       "      <td>2</td>\n",
       "      <td>W</td>\n",
       "      <td>3</td>\n",
       "      <td>NaN</td>\n",
       "      <td>35</td>\n",
       "      <td>NaN</td>\n",
       "      <td>NaN</td>\n",
       "      <td>COAL VALLEY RD</td>\n",
       "      <td>NaN</td>\n",
       "      <td>NaN</td>\n",
       "    </tr>\n",
       "    <tr>\n",
       "      <th>2</th>\n",
       "      <td>3</td>\n",
       "      <td>2004000016</td>\n",
       "      <td>11</td>\n",
       "      <td>02</td>\n",
       "      <td>02203</td>\n",
       "      <td>02203</td>\n",
       "      <td>2004</td>\n",
       "      <td>01</td>\n",
       "      <td>5</td>\n",
       "      <td>1839</td>\n",
       "      <td>...</td>\n",
       "      <td>2</td>\n",
       "      <td>W</td>\n",
       "      <td>2</td>\n",
       "      <td>3082</td>\n",
       "      <td>35</td>\n",
       "      <td>NaN</td>\n",
       "      <td>NaN</td>\n",
       "      <td>CLINTON FRANKFORT RD</td>\n",
       "      <td>NaN</td>\n",
       "      <td>NaN</td>\n",
       "    </tr>\n",
       "    <tr>\n",
       "      <th>3</th>\n",
       "      <td>4</td>\n",
       "      <td>2004000022</td>\n",
       "      <td>11</td>\n",
       "      <td>02</td>\n",
       "      <td>02404</td>\n",
       "      <td>02404</td>\n",
       "      <td>2004</td>\n",
       "      <td>01</td>\n",
       "      <td>6</td>\n",
       "      <td>0914</td>\n",
       "      <td>...</td>\n",
       "      <td>2</td>\n",
       "      <td>N</td>\n",
       "      <td>4</td>\n",
       "      <td>NaN</td>\n",
       "      <td>25</td>\n",
       "      <td>NaN</td>\n",
       "      <td>NaN</td>\n",
       "      <td>NORTH BALPH AV</td>\n",
       "      <td>NaN</td>\n",
       "      <td>NaN</td>\n",
       "    </tr>\n",
       "    <tr>\n",
       "      <th>4</th>\n",
       "      <td>5</td>\n",
       "      <td>2004000030</td>\n",
       "      <td>11</td>\n",
       "      <td>02</td>\n",
       "      <td>02419</td>\n",
       "      <td>02419</td>\n",
       "      <td>2004</td>\n",
       "      <td>01</td>\n",
       "      <td>5</td>\n",
       "      <td>2230</td>\n",
       "      <td>...</td>\n",
       "      <td>2</td>\n",
       "      <td>S</td>\n",
       "      <td>4</td>\n",
       "      <td>NaN</td>\n",
       "      <td>20</td>\n",
       "      <td>NaN</td>\n",
       "      <td>NaN</td>\n",
       "      <td>THORNBERRY DR</td>\n",
       "      <td>NaN</td>\n",
       "      <td>NaN</td>\n",
       "    </tr>\n",
       "  </tbody>\n",
       "</table>\n",
       "<p>5 rows × 191 columns</p>\n",
       "</div>"
      ],
      "text/plain": [
       "  _id   CRASH_CRN DISTRICT CRASH_COUNTY MUNICIPALITY POLICE_AGCY CRASH_YEAR  \\\n",
       "0   1  2004000001       11           02        02454       02454       2004   \n",
       "1   2  2004000010       11           02        02440       02440       2004   \n",
       "2   3  2004000016       11           02        02203       02203       2004   \n",
       "3   4  2004000022       11           02        02404       02404       2004   \n",
       "4   5  2004000030       11           02        02419       02419       2004   \n",
       "\n",
       "  CRASH_MONTH DAY_OF_WEEK TIME_OF_DAY  ... LANE_COUNT RDWY_ORIENT ROAD_OWNER  \\\n",
       "0          01           5        0257  ...          2           E          2   \n",
       "1          01           5        1027  ...          2           W          3   \n",
       "2          01           5        1839  ...          2           W          2   \n",
       "3          01           6        0914  ...          2           N          4   \n",
       "4          01           5        2230  ...          2           S          4   \n",
       "\n",
       "  ROUTE SPEED_LIMIT SEGMENT OFFSET           STREET_NAME TOT_INJ_COUNT  \\\n",
       "0  2032          35    0010   1000          LEWIS RUN RD           NaN   \n",
       "1   NaN          35     NaN    NaN        COAL VALLEY RD           NaN   \n",
       "2  3082          35     NaN    NaN  CLINTON FRANKFORT RD           NaN   \n",
       "3   NaN          25     NaN    NaN        NORTH BALPH AV           NaN   \n",
       "4   NaN          20     NaN    NaN         THORNBERRY DR           NaN   \n",
       "\n",
       "  SCHOOL_BUS_UNIT  \n",
       "0             NaN  \n",
       "1             NaN  \n",
       "2             NaN  \n",
       "3             NaN  \n",
       "4             NaN  \n",
       "\n",
       "[5 rows x 191 columns]"
      ]
     },
     "execution_count": 53,
     "metadata": {},
     "output_type": "execute_result"
    }
   ],
   "source": [
    "import pandas as pd\n",
    "from matplotlib import pyplot as plt\n",
    "\n",
    "crash_data = pd.read_csv(\"https://tools.wprdc.org/downstream/2c13021f-74a9-4289-a1e5-fe0472c89881\", dtype=str)\n",
    "municipality_codes = pd.read_csv(\"https://data.wprdc.org/dataset/3130f583-9499-472b-bb5a-f63a6ff6059a/resource/fb81a55f-c560-4541-9ad4-7ea7c41f79e7/download/municipalitycodes.csv\", index_col=\"Code\")\n",
    "\n",
    "crash_data.head()"
   ]
  },
  {
   "cell_type": "code",
   "execution_count": 54,
   "metadata": {},
   "outputs": [
    {
     "data": {
      "text/html": [
       "<div>\n",
       "<style scoped>\n",
       "    .dataframe tbody tr th:only-of-type {\n",
       "        vertical-align: middle;\n",
       "    }\n",
       "\n",
       "    .dataframe tbody tr th {\n",
       "        vertical-align: top;\n",
       "    }\n",
       "\n",
       "    .dataframe thead th {\n",
       "        text-align: right;\n",
       "    }\n",
       "</style>\n",
       "<table border=\"1\" class=\"dataframe\">\n",
       "  <thead>\n",
       "    <tr style=\"text-align: right;\">\n",
       "      <th></th>\n",
       "      <th>Municipality</th>\n",
       "    </tr>\n",
       "    <tr>\n",
       "      <th>Code</th>\n",
       "      <th></th>\n",
       "    </tr>\n",
       "  </thead>\n",
       "  <tbody>\n",
       "    <tr>\n",
       "      <th>2101</th>\n",
       "      <td>Baldwin Township</td>\n",
       "    </tr>\n",
       "    <tr>\n",
       "      <th>2102</th>\n",
       "      <td>Collier Township</td>\n",
       "    </tr>\n",
       "    <tr>\n",
       "      <th>2103</th>\n",
       "      <td>Crescent Township</td>\n",
       "    </tr>\n",
       "    <tr>\n",
       "      <th>2104</th>\n",
       "      <td>East Deer Township</td>\n",
       "    </tr>\n",
       "    <tr>\n",
       "      <th>2105</th>\n",
       "      <td>Elizabeth Township</td>\n",
       "    </tr>\n",
       "  </tbody>\n",
       "</table>\n",
       "</div>"
      ],
      "text/plain": [
       "             Municipality\n",
       "Code                     \n",
       "2101     Baldwin Township\n",
       "2102     Collier Township\n",
       "2103    Crescent Township\n",
       "2104   East Deer Township\n",
       "2105   Elizabeth Township"
      ]
     },
     "execution_count": 54,
     "metadata": {},
     "output_type": "execute_result"
    }
   ],
   "source": [
    "municipality_codes.head()"
   ]
  },
  {
   "cell_type": "markdown",
   "metadata": {},
   "source": [
    "## Cyclist and Pedestrian Crash Totals"
   ]
  },
  {
   "cell_type": "code",
   "execution_count": 55,
   "metadata": {},
   "outputs": [
    {
     "data": {
      "text/plain": [
       "02120    0\n",
       "02457    0\n",
       "02114    0\n",
       "02491    0\n",
       "02107    0\n",
       "02417    0\n",
       "02436    0\n",
       "02482    0\n",
       "02206    0\n",
       "02465    0\n",
       "02202    1\n",
       "02470    1\n",
       "02125    1\n",
       "02452    1\n",
       "02101    1\n",
       "02471    1\n",
       "02412    1\n",
       "02450    1\n",
       "02432    1\n",
       "02406    1\n",
       "02459    1\n",
       "02455    1\n",
       "02443    2\n",
       "02211    2\n",
       "02472    2\n",
       "02103    2\n",
       "02442    2\n",
       "02121    2\n",
       "02418    3\n",
       "02490    3\n",
       "02204    4\n",
       "02434    4\n",
       "02462    5\n",
       "02215    5\n",
       "02460    5\n",
       "02409    5\n",
       "02468    6\n",
       "02405    6\n",
       "02480    6\n",
       "02411    6\n",
       "02104    6\n",
       "02479    7\n",
       "02475    7\n",
       "02469    7\n",
       "02408    7\n",
       "02410    7\n",
       "02401    7\n",
       "02478    7\n",
       "02124    8\n",
       "02428    8\n",
       "Name: Pedestrian Involved Crashes, dtype: int64"
      ]
     },
     "execution_count": 55,
     "metadata": {},
     "output_type": "execute_result"
    }
   ],
   "source": [
    "ped_crashes = dict()\n",
    "\n",
    "# iterates through every row of crash data\n",
    "for i in range(len(crash_data)):\n",
    "    \n",
    "    # stores important values from each row\n",
    "    ped_count = crash_data.loc[i, 'PEDESTRIAN']\n",
    "    cyc_count = crash_data.loc[i, 'BICYCLE_COUNT']\n",
    "    neighborhood = crash_data.loc[i, 'MUNICIPALITY']\n",
    "    \n",
    "    # if it doesn't already exist in the data set, add it with 0\n",
    "    if neighborhood not in ped_crashes:\n",
    "        ped_crashes[neighborhood] = 0\n",
    "    # if data points indicate one of the following, increment it in the dictionary for that neighborhood\n",
    "    if int(ped_count) > 0:\n",
    "        ped_crashes[neighborhood] += 1\n",
    "    if int(cyc_count) > 0:\n",
    "        ped_crashes[neighborhood] += 1\n",
    "            \n",
    "new_ped_crashes = pd.Series(ped_crashes, name = \"Pedestrian Involved Crashes\")\n",
    "sorted_ped_crashes = new_ped_crashes.sort_values()\n",
    "sorted_ped_crashes.head(50)"
   ]
  },
  {
   "cell_type": "code",
   "execution_count": 56,
   "metadata": {},
   "outputs": [
    {
     "data": {
      "text/plain": [
       "Text(0.5, 0, 'Municipality')"
      ]
     },
     "execution_count": 56,
     "metadata": {},
     "output_type": "execute_result"
    },
    {
     "data": {
      "image/png": "[encoded data removed]",
      "text/plain": [
       "<Figure size 720x720 with 1 Axes>"
      ]
     },
     "metadata": {
      "needs_background": "light"
     },
     "output_type": "display_data"
    }
   ],
   "source": [
    "lowest_pedestrian_crashes = sorted_ped_crashes.head(50)\n",
    "\n",
    "# vertical bar graph for the first 50 neighborhoods\n",
    "plot1 = lowest_pedestrian_crashes.plot(kind='bar', figsize=(10,10), color=['black', 'red', 'green', 'blue', 'cyan', 'yellow', 'orange', 'purple', 'pink', 'gray'])\n",
    "# y axis label\n",
    "plot1.set_ylabel(\"Predestrian Involved Crashes\")\n",
    "# x axis label\n",
    "plot1.set_xlabel(\"Municipality\")"
   ]
  },
  {
   "cell_type": "markdown",
   "metadata": {},
   "source": [
    "10 Neighborhoods do not have any cyclist or pedestrian involved accidents. Therefore, I will use the traffic density in these neighborhoods to determine which has had the least incidents for the amount of daily traffic.\n",
    "The neighborhoods with 0 incidents are: South Versailles Township, Rosslyn Farms Borough, Reserve Township, Trafford Borough, Leet Township, Chalfant Borough, Haysville Borough, Pennsbury Village, Harrison Township, and Thornburg Borough.\n",
    "\n",
    "* South Versailles Township  - 339\n",
    "* Rosslyn Farms Borough - 435\n",
    "* Reserve Township - 3,234\n",
    "* Trafford Borough - 3,280\n",
    "* Leet Township - 1,580\n",
    "* Chalfant Borough - 739\n",
    "* Haysville Borough - 81 \n",
    "* Pennsbury Village - 668\n",
    "* Harrison Township - 10,292\n",
    "* Thornburg Borough - 461\n",
    "\n",
    "The top 3 are Harrison Township, Trafford Borough, and Reserve Township."
   ]
  },
  {
   "cell_type": "markdown",
   "metadata": {},
   "source": [
    "## Accidents as a Result of Unsafe Road Conditions"
   ]
  },
  {
   "cell_type": "markdown",
   "metadata": {},
   "source": [
    "Now I will be adding up all of the accidents that result in unsafe road conditions. If a road has a higher amount of crashes that are caused by road conditions, it will be less safe for someone to travel on this road whether they are biking, walking, or driving. Therefore, this factor would make an area less traversable."
   ]
  },
  {
   "cell_type": "code",
   "execution_count": 65,
   "metadata": {},
   "outputs": [
    {
     "data": {
      "text/plain": [
       "02491      1\n",
       "02120      6\n",
       "02482      6\n",
       "02406      6\n",
       "02410     12\n",
       "02490     12\n",
       "02417     14\n",
       "02452     18\n",
       "02465     18\n",
       "02442     19\n",
       "02468     20\n",
       "02408     22\n",
       "02101     26\n",
       "02114     26\n",
       "02450     26\n",
       "02409     29\n",
       "02471     33\n",
       "02462     37\n",
       "02470     37\n",
       "02436     39\n",
       "02453     39\n",
       "02418     41\n",
       "02107     49\n",
       "02455     50\n",
       "02412     53\n",
       "02447     57\n",
       "02456     57\n",
       "02469     60\n",
       "02475     61\n",
       "02472     65\n",
       "02437     68\n",
       "02457     68\n",
       "02405     74\n",
       "02428     76\n",
       "02103     77\n",
       "02422     78\n",
       "02211     81\n",
       "02427     88\n",
       "02458     88\n",
       "02479     92\n",
       "02439     95\n",
       "02449     98\n",
       "02425    108\n",
       "02441    113\n",
       "02110    115\n",
       "02434    118\n",
       "02429    128\n",
       "02125    128\n",
       "02467    136\n",
       "02411    139\n",
       "Name: Unsafe Road Conditions, dtype: int64"
      ]
     },
     "execution_count": 65,
     "metadata": {},
     "output_type": "execute_result"
    }
   ],
   "source": [
    "unsafe_roads = dict()\n",
    "\n",
    "# iterates every row of crash_data\n",
    "for i in range(len(crash_data)):\n",
    "    \n",
    "    # stores important data points for each row\n",
    "    illumination = crash_data.loc[i, 'ILLUMINATION']\n",
    "    curve = crash_data.loc[i, 'CURVED_ROAD']\n",
    "    ice = crash_data.loc[i, 'SNOW_SLUSH_ROAD']\n",
    "    wet_road = crash_data.loc[i, 'WET_ROAD']\n",
    "    neighborhood = crash_data.loc[i, 'MUNICIPALITY']\n",
    "    \n",
    "    # if the neighborhood doesn't exist in the dictionary, add it wtih 0\n",
    "    if neighborhood not in unsafe_roads:\n",
    "        unsafe_roads[neighborhood] = 0\n",
    "    # if data points indicate one of the following, increment it in the dictionary for that neighborhood\n",
    "    if int(illumination) == 2:\n",
    "        unsafe_roads[neighborhood] += 1\n",
    "    if int(curve) > 0:\n",
    "        unsafe_roads[neighborhood] += 1\n",
    "    if int(ice) > 0:\n",
    "        unsafe_roads[neighborhood] += 1    \n",
    "    if int(wet_road) > 0:\n",
    "        unsafe_roads[neighborhood] += 1\n",
    "        \n",
    "# creates a new series from the dictionary\n",
    "new_unsafe_roads = pd.Series(unsafe_roads, name = \"Unsafe Road Conditions\")\n",
    "sorted_unsafe_roads = new_unsafe_roads.sort_values()\n",
    "sorted_unsafe_roads.head(10)"
   ]
  },
  {
   "cell_type": "code",
   "execution_count": 67,
   "metadata": {},
   "outputs": [
    {
     "data": {
      "text/plain": [
       "Text(0.5, 0, 'Municipality')"
      ]
     },
     "execution_count": 67,
     "metadata": {},
     "output_type": "execute_result"
    },
    {
     "data": {
      "image/png": "[encoded data removed]",
      "text/plain": [
       "<Figure size 720x720 with 1 Axes>"
      ]
     },
     "metadata": {
      "needs_background": "light"
     },
     "output_type": "display_data"
    }
   ],
   "source": [
    "safest_roads = sorted_unsafe_roads.head(50)\n",
    "\n",
    "# horizontal bar graph of the first 50 neighborhoods with unsafe road condition related incidents.\n",
    "plot2 = safest_roads.plot(kind='barh', figsize=(10,10), color=['black', 'red', 'green', 'blue', 'cyan', 'yellow', 'orange', 'purple', 'pink', 'gray'])\n",
    "# y axis label\n",
    "plot2.set_ylabel(\"Unsafe Road Meter\")\n",
    "# x axis label\n",
    "plot2.set_xlabel(\"Municipality\")"
   ]
  },
  {
   "cell_type": "markdown",
   "metadata": {},
   "source": [
    "The top 3 neighborhoods with the least accidents resulting from road conditions are Trafford Borough, South Versailles Township, and Pennsbury Village. Harrison Township was also tied for third. "
   ]
  },
  {
   "cell_type": "markdown",
   "metadata": {},
   "source": [
    "## Neighborhood With the Most Hazardous Drivers"
   ]
  },
  {
   "cell_type": "markdown",
   "metadata": {},
   "source": [
    "Looking at crashes that resulted from hazardous drivers can give insight to the safety traveling in that area. The data that can show this could be drunk driving, speeding, or cell phone use."
   ]
  },
  {
   "cell_type": "code",
   "execution_count": 77,
   "metadata": {},
   "outputs": [
    {
     "data": {
      "text/plain": [
       "02120     2\n",
       "02482     2\n",
       "02406     3\n",
       "02491     4\n",
       "02490    19\n",
       "02114    23\n",
       "02107    23\n",
       "02470    23\n",
       "02442    24\n",
       "02417    29\n",
       "dtype: int64"
      ]
     },
     "execution_count": 77,
     "metadata": {},
     "output_type": "execute_result"
    }
   ],
   "source": [
    "hazardous_drivers = dict()\n",
    "\n",
    "# loops through every row of the crash data\n",
    "for i in range(len(crash_data)):\n",
    "    \n",
    "    # stores values of data points for each row \n",
    "    alcohol = crash_data.loc[i, 'ALCOHOL_RELATED']\n",
    "    phone = crash_data.loc[i, 'CELL_PHONE']\n",
    "    red_light = crash_data.loc[i, 'RUNNING_RED_LT']\n",
    "    tailgaiting = crash_data.loc[i, 'TAILGATING']\n",
    "    speeding = crash_data.loc[i, 'SPEEDING_RELATED']\n",
    "    agressive_driving = crash_data.loc[i, 'AGGRESSIVE_DRIVING']\n",
    "    neighborhood = crash_data.loc[i, 'MUNICIPALITY']\n",
    "    \n",
    "    # if the neighborhood does not already exist in the dictionary, add it with 0\n",
    "    if neighborhood not in hazardous_drivers:\n",
    "        hazardous_drivers[neighborhood] = 0\n",
    "    # if data points indicate one of the following, increment it in the dictionary for that neighborhood\n",
    "    if int(alcohol) == 2:\n",
    "        hazardous_drivers[neighborhood] += 1\n",
    "    if int(phone) > 0:\n",
    "        hazardous_drivers[neighborhood] += 1\n",
    "    if int(red_light) > 0:\n",
    "        hazardous_drivers[neighborhood] += 1  \n",
    "    if int(tailgaiting) > 0:\n",
    "        hazardous_drivers[neighborhood] += 1  \n",
    "    if int(speeding) > 0:\n",
    "        hazardous_drivers[neighborhood] += 1  \n",
    "    if int(agressive_driving) > 0:\n",
    "        hazardous_drivers[neighborhood] += 1\n",
    "        \n",
    "# make a new temp series from the dictionary to sort the values\n",
    "new_hazardous_drivers = pd.Series(hazardous_drivers)\n",
    "sorted_hazardous_drivers = new_hazardous_drivers.sort_values()\n",
    "sorted_hazardous_drivers.head(10)"
   ]
  },
  {
   "cell_type": "code",
   "execution_count": 75,
   "metadata": {},
   "outputs": [
    {
     "data": {
      "text/plain": [
       "Text(0.5, 0, 'Municipality')"
      ]
     },
     "execution_count": 75,
     "metadata": {},
     "output_type": "execute_result"
    },
    {
     "data": {
      "image/png": "[encoded data removed]",
      "text/plain": [
       "<Figure size 720x720 with 1 Axes>"
      ]
     },
     "metadata": {
      "needs_background": "light"
     },
     "output_type": "display_data"
    }
   ],
   "source": [
    "least_hazardous_drivers = sorted_hazardous_drivers.head(50)\n",
    "\n",
    "# plot the first 50 neighborhoods from most hazardous driver incidents to least\n",
    "plot3 = least_hazardous_drivers.plot(kind='barh', figsize=(10,10), color=['black', 'red', 'green', 'blue', 'cyan', 'yellow', 'orange', 'purple', 'pink', 'gray'])\n",
    "# y axis label\n",
    "plot3.set_ylabel(\"Hazardous Driver Meter\")\n",
    "# x axis label\n",
    "plot3.set_xlabel(\"Municipality\")"
   ]
  },
  {
   "cell_type": "markdown",
   "metadata": {},
   "source": [
    "The top 3 neighborhoods with the least hazardous drivers are South Versailles Township, Pennsbury Village, and Harrison Township."
   ]
  },
  {
   "cell_type": "markdown",
   "metadata": {},
   "source": [
    "# Conclusion"
   ]
  },
  {
   "cell_type": "markdown",
   "metadata": {},
   "source": [
    "**Cyclist and Pedestrian Crash Totals**\n",
    "\n",
    "* 1. Harrison Township - 3\n",
    "* 2. Trafford Borough - 2\n",
    "* 3. Reserve Township - 1\n",
    "\n",
    "**Accidents as a Result of Unsafe Road Conditions**\n",
    "\n",
    "* 1. Trafford Borough - 3\n",
    "* 2. South Versailles Township - 2\n",
    "* 3. Pennsbury Village - 1\n",
    "* 3. Harrison Township - 1\n",
    "\n",
    "**Neighborhood With the Most Hazardous Drivers**\n",
    "\n",
    "* 1. South Versailles Township - 3\n",
    "* 2. Pennsbury Village - 2\n",
    "* 3. Harrison Township - 1\n",
    "\n",
    "To determine which is the most traversable neighborhood based on this data, I will use a point system. I will give 3 points for 1st place, 2 for 2nd, and 1 for 3rd. In addition, I will give an additional point for the first metric because out of the 3 it is the most important and should be rated the most heavily.\n",
    "\n",
    "* Harrison Township - 6\n",
    "* South Versailles Township - 5\n",
    "* Trafford Borough - 5\n",
    "* Pennsbury Village - 3\n",
    "* Reserve Township - 1\n",
    "\n",
    "Based on this data set, the most traversable neighborhood in Pittsburgh is Harrison Township."
   ]
  },
  {
   "cell_type": "code",
   "execution_count": null,
   "metadata": {},
   "outputs": [],
   "source": []
  }
 ],
 "metadata": {
  "kernelspec": {
   "display_name": "Python 3",
   "language": "python",
   "name": "python3"
  },
  "language_info": {
   "codemirror_mode": {
    "name": "ipython",
    "version": 3
   },
   "file_extension": ".py",
   "mimetype": "text/x-python",
   "name": "python",
   "nbconvert_exporter": "python",
   "pygments_lexer": "ipython3",
   "version": "3.8.3"
  }
 },
 "nbformat": 4,
 "nbformat_minor": 4
}
